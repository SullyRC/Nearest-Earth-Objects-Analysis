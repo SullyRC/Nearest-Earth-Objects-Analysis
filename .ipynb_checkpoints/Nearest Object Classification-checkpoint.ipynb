{
 "cells": [
  {
   "cell_type": "markdown",
   "id": "b0a68364-7125-4bf0-89d1-dcdecc16be03",
   "metadata": {},
   "source": [
    "# Overview \n",
    "This notebook contains the complete analysis of the [Nearest Earth Object Dataset](https://www.kaggle.com/datasets/ivansher/nasa-nearest-earth-objects-1910-2024?resource=download). This dataset contains information about Nearest Earth Objects (N.E.O.) which are \"comets and astroids that...enter the Earth's neighborhood\" ([NASA](https://cneos.jpl.nasa.gov/about/basics.html#:~:text=Near%2DEarth%20Objects%20(NEOs),to%20enter%20the%20Earth's%20neighborhood.)). NASA also classifies N.E.O.s as being \"[1.3 astronomical units of the sun](https://www.jpl.nasa.gov/keeping-an-eye-on-space-rocks)\". They state that a relatively small number of N.E.O.s are close enough or large enough in size to be closely monitored. The importance of this is, as stated by NASA, is \"**knowing the size, shape, mass, composition and structure of these objects helps determine the best way to divert one, should it have an Earth-threatening path.**\" These monitored objects are labeled as hazardous in the dataset.\n",
    "\n",
    "A cool visualization into this from [theskylive.com](https://theskylive.com/near-earth-objects) which has a neat page containging information o fupcoming close approaches as well as a 3d visualization of where the orbits of these objects are in space. One important take away from this is that the names of the space object has a year in it, but it is not hte year of closest approach. Instead it appears to be the year it was discovered.  \n",
    "\n",
    "Given that these hazardous N.E.O.s are classified and labeled by NASA, there is not much use for us to try to create a predictive model. Rather a prescriptive model would be a better usecase to help us determine what factors contribute greatly when NASA classifies an object as hazardous. The first thought that comes to mind with this is using a statistical model like Logistic Regression and evaluating the parameters of the model to help identify key components in what makes an object hazardous. We could also do some clustering on the data as well to gleem some more insights. Therefore, the research question for this project is \"**what are the key features that make a N.E.O. be classified as hazardous**\"."
   ]
  },
  {
   "cell_type": "code",
   "execution_count": null,
   "id": "0fc27785-0d3c-4aa6-b9a1-3b95e69cf091",
   "metadata": {},
   "outputs": [],
   "source": []
  }
 ],
 "metadata": {
  "kernelspec": {
   "display_name": "Python 3 (ipykernel)",
   "language": "python",
   "name": "python3"
  },
  "language_info": {
   "codemirror_mode": {
    "name": "ipython",
    "version": 3
   },
   "file_extension": ".py",
   "mimetype": "text/x-python",
   "name": "python",
   "nbconvert_exporter": "python",
   "pygments_lexer": "ipython3",
   "version": "3.11.4"
  }
 },
 "nbformat": 4,
 "nbformat_minor": 5
}
